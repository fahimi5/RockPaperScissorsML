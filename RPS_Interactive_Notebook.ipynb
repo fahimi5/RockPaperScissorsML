{
 "cells": [
  {
   "cell_type": "code",
   "execution_count": 67,
   "id": "6387b053",
   "metadata": {},
   "outputs": [],
   "source": [
    "#This will be the script that handles the main game of RPS\n",
    "import random\n",
    "import numpy as np\n",
    "import pandas as pd\n"
   ]
  },
  {
   "cell_type": "code",
   "execution_count": 68,
   "id": "dcbcf43f",
   "metadata": {},
   "outputs": [
    {
     "name": "stdout",
     "output_type": "stream",
     "text": [
      "What is your name?Ethan Fahimi\n",
      "How many rounds would you like to play?10\n"
     ]
    }
   ],
   "source": [
    "\n",
    "# ask for player name and how many rounds they want to play\n",
    "player_id = input(\"What is your name?\")\n",
    "rounds_tot = int(input(\"How many rounds would you like to play?\"))\n",
    "\n"
   ]
  },
  {
   "cell_type": "code",
   "execution_count": 73,
   "id": "4b9ddeb1",
   "metadata": {},
   "outputs": [],
   "source": [
    "# Create game logic\n",
    "outcomes = [(0,-1,1),\n",
    "            (1,0,-1),\n",
    "            (-1,1,0)]\n",
    "\n",
    "scores = [[]]\n",
    "columns = ['user','round_num','player_choice','cpu_choice','model_used','model_choices','model_scores']\n",
    "history = pd.DataFrame(columns=columns)"
   ]
  },
  {
   "cell_type": "code",
   "execution_count": 35,
   "id": "a6fcc46a",
   "metadata": {},
   "outputs": [],
   "source": [
    "# model 0 - simple model based on rough probability of human choice\n",
    "def model_0():\n",
    "    model_0_prob = random.random()\n",
    "    model_0_pred = 1\n",
    "    if model_0_prob < 0.5:\n",
    "        model_0_pred = 1\n",
    "    elif model_0_prob > .8:\n",
    "        model_0_pred = 2\n",
    "    else:\n",
    "        model_0_pred = 0\n",
    "    return model_0_pred"
   ]
  },
  {
   "cell_type": "code",
   "execution_count": null,
   "id": "cedbd21a",
   "metadata": {},
   "outputs": [],
   "source": []
  },
  {
   "cell_type": "code",
   "execution_count": 36,
   "id": "a82664be",
   "metadata": {},
   "outputs": [],
   "source": [
    "def ensembler(history_outcome):\n",
    "    for i in len(history_outcome[0]):\n",
    "        round_score = []\n",
    "        model_sqr_sum = 0\n",
    "        model_outcome_sum = 0\n",
    "        for j in len(history_outcome):\n",
    "            model_sqr_sum += j**2\n",
    "            model_outcome_sum += history_outcome[i][j]*(j**2)\n",
    "        round_score.append(model_outcome_sum / model_sqr_sum)\n",
    "    return round_score"
   ]
  },
  {
   "cell_type": "code",
   "execution_count": null,
   "id": "5798cc27",
   "metadata": {},
   "outputs": [],
   "source": [
    "Round = 0\n",
    "while Round < rounds_tot:\n",
    "    # call models and create choice list\n",
    "    choice_list = [model_0()]\n",
    "    if Round == 0:\n",
    "        selected_model = 0\n",
    "    else:\n",
    "        round_score = ensembler(history_outcome)\n",
    "        selected_model = np.argmax(round_score)\n",
    "        scores.append(round_score)\n",
    "    selected_choice = choice_list[selected_model]\n",
    "    \n",
    "    #have player select choice\n",
    "    player_choice = int(input(\"Please select Rock (0), Paper (1), or Scissors (2)\"))\n",
    "\n",
    "    # determine game outcome\n",
    "    outcome = outcomes[player_choice][selected_choice]\n",
    "    \n",
    "    # make important printouts for player\n",
    "    print(selected_choice)\n",
    "    print(outcome)\n",
    "    \n",
    "    # save important data from the round\n",
    "    \n",
    "    \n",
    "    Round += 1\n",
    "    "
   ]
  },
  {
   "cell_type": "code",
   "execution_count": null,
   "id": "e399c821",
   "metadata": {},
   "outputs": [],
   "source": [
    "history_pred = [[1,0,0,1,2,2,0,1],[1,0,0,1,2,2,0,1],[1,0,0,1,2,2,0,1],[1,0,0,1,2,2,0,1]]\n",
    "history_outcome = [[0,-1,-1,1,0,0,1,-1],[0,-1,-1,1,0,0,1,-1],[0,-1,-1,1,0,0,1,-1],[0,-1,-1,1,0,0,1,-1]]\n",
    "print(len(history))\n",
    "print(len(history[0]))"
   ]
  }
 ],
 "metadata": {
  "kernelspec": {
   "display_name": "Python 3",
   "language": "python",
   "name": "python3"
  },
  "language_info": {
   "codemirror_mode": {
    "name": "ipython",
    "version": 3
   },
   "file_extension": ".py",
   "mimetype": "text/x-python",
   "name": "python",
   "nbconvert_exporter": "python",
   "pygments_lexer": "ipython3",
   "version": "3.6.8"
  }
 },
 "nbformat": 4,
 "nbformat_minor": 5
}
