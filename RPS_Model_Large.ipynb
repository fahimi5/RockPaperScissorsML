{
 "cells": [
  {
   "cell_type": "code",
   "execution_count": 1,
   "id": "5d93a0eb",
   "metadata": {},
   "outputs": [
    {
     "name": "stdout",
     "output_type": "stream",
     "text": [
      "2.6.0\n",
      "2.6.0\n"
     ]
    }
   ],
   "source": [
    "import pandas as pd\n",
    "import numpy as np\n",
    "import plotly.express as px\n",
    "import plotly.io as pio\n",
    "pio.renderers.default='notebook'\n",
    "\n",
    "#\n",
    "# Used to implement the multi-dimensional counter we need in the performance class\n",
    "from collections import defaultdict\n",
    "from functools import partial\n",
    "from itertools import repeat\n",
    "def nested_defaultdict(default_factory, depth=1):\n",
    "    result = partial(defaultdict, default_factory)\n",
    "    for _ in repeat(None, depth - 1):\n",
    "        result = partial(defaultdict, result)\n",
    "    return result()\n",
    "\n",
    "import tensorflow as tf\n",
    "from tensorflow import keras\n",
    "print(tf.__version__)\n",
    "print(keras.__version__)"
   ]
  },
  {
   "cell_type": "code",
   "execution_count": 2,
   "id": "5cf1b049",
   "metadata": {},
   "outputs": [],
   "source": [
    "file1 = 'Player_' + str(1) + '.csv'\n",
    "df1 = pd.read_csv(file1, header=None, skiprows=2)\n",
    "headers = df1.iloc[0]\n",
    "df1 = pd.DataFrame(df1.values[1:], columns=headers)\n",
    "player_str = \"Player \" + str(1) + \" played:\"\n",
    "df_data = pd.DataFrame(columns=[\"Player_Choice\", \"CPU_Choice\"])\n",
    "df_data[\"Player_Choice\"] = df1[player_str].replace([\"R\", \"P\", \"S\"],[0,1,2])\n",
    "df_data[\"CPU_Choice\"] = df1[\"Multi AI played:\"].replace([\"R\", \"P\", \"S\"],[0,1,2])"
   ]
  },
  {
   "cell_type": "code",
   "execution_count": 3,
   "id": "67d65e6e",
   "metadata": {},
   "outputs": [],
   "source": [
    "df_sub = pd.DataFrame(columns=[\"Player_Choice\", \"CPU_Choice\"])\n",
    "for i in range(2,42):\n",
    "    file = 'Player_' + str(i) + '.csv'\n",
    "    df = pd.read_csv(file, header=None, skiprows=1)\n",
    "    headers = df.iloc[0]\n",
    "    df = pd.DataFrame(df.values[1:], columns=headers)\n",
    "    player_str = \"Player \" + str(i) + \" played:\"\n",
    "    df_sub[\"Player_Choice\"] = df[player_str].replace([\"R\", \"P\", \"S\"],[0,1,2])\n",
    "    df_sub[\"CPU_Choice\"] = df[\"Multi AI played:\"].replace([\"R\", \"P\", \"S\"],[0,1,2])\n",
    "    \n",
    "    frames = [df_data, df_sub]\n",
    "    df_data = pd.concat(frames, ignore_index=True)\n",
    "    \n",
    "df_data.head(len(df_data))\n",
    "\n",
    "df_data.to_csv('large_player_data.csv') "
   ]
  },
  {
   "cell_type": "code",
   "execution_count": 4,
   "id": "4c179408",
   "metadata": {},
   "outputs": [
    {
     "name": "stdout",
     "output_type": "stream",
     "text": [
      "9225 3075\n"
     ]
    }
   ],
   "source": [
    "import random\n",
    "\n",
    "train_len = int(0.75 * len(df_data['Player_Choice']))\n",
    "test_len = int(len(df_data['Player_Choice']) - train_len)\n",
    "print(train_len, test_len)\n",
    "\n",
    "foo = df_data['Player_Choice'].tolist()\n",
    "bar = df_data['CPU_Choice'].tolist()\n",
    "\n",
    "train_data = []\n",
    "train_labels = []\n",
    "\n",
    "for i in range(train_len):\n",
    "    x = random.randint(0,(train_len-8))\n",
    "    y_1 = []\n",
    "    y_2 = []\n",
    "    for j in range(x, x+8):\n",
    "        if j < x+7:\n",
    "            y_1.append(foo[j])\n",
    "        else:\n",
    "            y_2.append(bar[j])\n",
    "    train_data.append(y_1)\n",
    "    train_labels.append(y_2)\n",
    "\n",
    "    \n",
    "test_data = []\n",
    "test_labels= []\n",
    "\n",
    "for i in range(train_len, train_len+test_len):\n",
    "    x = random.randint(train_len, train_len+test_len-8)\n",
    "    y_1 = []\n",
    "    y_2 = []\n",
    "    for j in range(x, x+8):\n",
    "        if j < x+7:\n",
    "            y_1.append(foo[j])\n",
    "        else:\n",
    "            y_2.append(bar[j])\n",
    "    test_data.append(y_1)\n",
    "    test_labels.append(y_2)\n",
    "    \n",
    "train_data = np.array(train_data)\n",
    "train_labels = np.array(train_labels)\n",
    "test_data = np.array(test_data)\n",
    "test_labels = np.array(test_labels)"
   ]
  },
  {
   "cell_type": "code",
   "execution_count": 5,
   "id": "ec630219",
   "metadata": {},
   "outputs": [
    {
     "name": "stdout",
     "output_type": "stream",
     "text": [
      "Train info (9225, 7) (9225, 1)\n",
      "Test info (3075, 7) (3075, 1)\n"
     ]
    }
   ],
   "source": [
    "print(\"Train info\",train_data.shape, train_labels.shape)\n",
    "print(\"Test info\",test_data.shape, test_labels.shape)"
   ]
  },
  {
   "cell_type": "code",
   "execution_count": 6,
   "id": "76d1b500",
   "metadata": {},
   "outputs": [
    {
     "name": "stdout",
     "output_type": "stream",
     "text": [
      "test_labels [[1]\n",
      " [2]\n",
      " [2]\n",
      " [0]\n",
      " [0]]\n"
     ]
    }
   ],
   "source": [
    "#train_data = train_data.reshape((train_data.shape[0],28,28,1))\n",
    "train_data = train_data.astype('float32')/2\n",
    "#\n",
    "#test_data = test_data.reshape((test_data.shape[0],28,28,1))\n",
    "test_data = test_data.astype('float32')/2\n",
    "print(\"test_labels\",test_labels[:5])\n",
    "\n",
    "train_labels_cat = keras.utils.to_categorical(train_labels)\n",
    "test_labels_cat = keras.utils.to_categorical(test_labels)"
   ]
  },
  {
   "cell_type": "code",
   "execution_count": 7,
   "id": "6580bbdb",
   "metadata": {},
   "outputs": [
    {
     "name": "stdout",
     "output_type": "stream",
     "text": [
      "(9225, 3)\n"
     ]
    }
   ],
   "source": [
    "print(train_labels_cat.shape)"
   ]
  },
  {
   "cell_type": "code",
   "execution_count": 8,
   "id": "cf8a4869",
   "metadata": {},
   "outputs": [],
   "source": [
    "#print(test_labels)"
   ]
  },
  {
   "cell_type": "code",
   "execution_count": 16,
   "id": "3a84fa0c",
   "metadata": {
    "scrolled": false
   },
   "outputs": [
    {
     "name": "stdout",
     "output_type": "stream",
     "text": [
      "Epoch 1/100\n",
      "73/73 [==============================] - 1s 17ms/step - loss: 1.1056 - accuracy: 0.3639 - val_loss: 1.1004 - val_accuracy: 0.3824\n",
      "Epoch 2/100\n",
      "73/73 [==============================] - 1s 16ms/step - loss: 1.0987 - accuracy: 0.3720 - val_loss: 1.1007 - val_accuracy: 0.3584\n",
      "Epoch 3/100\n",
      "73/73 [==============================] - 1s 17ms/step - loss: 1.0942 - accuracy: 0.3716 - val_loss: 1.1060 - val_accuracy: 0.3502\n",
      "Epoch 4/100\n",
      "73/73 [==============================] - 1s 16ms/step - loss: 1.0931 - accuracy: 0.3708 - val_loss: 1.0975 - val_accuracy: 0.3636\n",
      "Epoch 5/100\n",
      "73/73 [==============================] - 1s 17ms/step - loss: 1.0933 - accuracy: 0.3688 - val_loss: 1.1011 - val_accuracy: 0.3548\n",
      "Epoch 6/100\n",
      "73/73 [==============================] - 1s 17ms/step - loss: 1.0911 - accuracy: 0.3775 - val_loss: 1.0998 - val_accuracy: 0.3678\n",
      "Epoch 7/100\n",
      "73/73 [==============================] - 1s 16ms/step - loss: 1.0903 - accuracy: 0.3783 - val_loss: 1.0975 - val_accuracy: 0.3454\n",
      "Epoch 8/100\n",
      "73/73 [==============================] - 1s 18ms/step - loss: 1.0839 - accuracy: 0.3892 - val_loss: 1.0936 - val_accuracy: 0.3701\n",
      "Epoch 9/100\n",
      "73/73 [==============================] - 1s 18ms/step - loss: 1.0742 - accuracy: 0.4172 - val_loss: 1.0900 - val_accuracy: 0.3759\n",
      "Epoch 10/100\n",
      "73/73 [==============================] - 1s 17ms/step - loss: 1.0690 - accuracy: 0.4227 - val_loss: 1.0973 - val_accuracy: 0.3753\n",
      "Epoch 11/100\n",
      "73/73 [==============================] - 1s 17ms/step - loss: 1.0625 - accuracy: 0.4345 - val_loss: 1.0973 - val_accuracy: 0.3727\n",
      "Epoch 12/100\n",
      "73/73 [==============================] - 1s 17ms/step - loss: 1.0634 - accuracy: 0.4332 - val_loss: 1.1081 - val_accuracy: 0.3873\n",
      "Epoch 13/100\n",
      "73/73 [==============================] - 1s 17ms/step - loss: 1.0601 - accuracy: 0.4320 - val_loss: 1.0915 - val_accuracy: 0.3951\n",
      "Epoch 14/100\n",
      "73/73 [==============================] - 1s 17ms/step - loss: 1.0562 - accuracy: 0.4417 - val_loss: 1.0862 - val_accuracy: 0.3951\n",
      "Epoch 15/100\n",
      "73/73 [==============================] - 1s 16ms/step - loss: 1.0530 - accuracy: 0.4418 - val_loss: 1.0900 - val_accuracy: 0.3951\n",
      "Epoch 16/100\n",
      "73/73 [==============================] - 1s 16ms/step - loss: 1.0528 - accuracy: 0.4450 - val_loss: 1.0992 - val_accuracy: 0.3886\n",
      "Epoch 17/100\n",
      "73/73 [==============================] - 1s 17ms/step - loss: 1.0514 - accuracy: 0.4441 - val_loss: 1.1018 - val_accuracy: 0.3935\n",
      "Epoch 18/100\n",
      "73/73 [==============================] - 1s 17ms/step - loss: 1.0469 - accuracy: 0.4489 - val_loss: 1.0941 - val_accuracy: 0.3922\n",
      "Epoch 19/100\n",
      "73/73 [==============================] - 1s 17ms/step - loss: 1.0442 - accuracy: 0.4514 - val_loss: 1.0912 - val_accuracy: 0.4003\n",
      "Epoch 20/100\n",
      "73/73 [==============================] - 1s 16ms/step - loss: 1.0438 - accuracy: 0.4540 - val_loss: 1.0907 - val_accuracy: 0.3954\n",
      "Epoch 21/100\n",
      "73/73 [==============================] - 1s 16ms/step - loss: 1.0437 - accuracy: 0.4502 - val_loss: 1.0878 - val_accuracy: 0.4016\n",
      "Epoch 22/100\n",
      "73/73 [==============================] - 1s 16ms/step - loss: 1.0383 - accuracy: 0.4577 - val_loss: 1.0933 - val_accuracy: 0.3828\n",
      "Epoch 23/100\n",
      "73/73 [==============================] - 1s 17ms/step - loss: 1.0392 - accuracy: 0.4567 - val_loss: 1.0916 - val_accuracy: 0.4143\n",
      "Epoch 24/100\n",
      "73/73 [==============================] - 1s 17ms/step - loss: 1.0377 - accuracy: 0.4562 - val_loss: 1.0928 - val_accuracy: 0.4065\n"
     ]
    }
   ],
   "source": [
    "from keras import models\n",
    "from keras import layers\n",
    "\n",
    "# Define the model\n",
    "fcn_network = models.Sequential()\n",
    "#\n",
    "fcn_network.add(layers.Flatten(input_shape=[7]))\n",
    "#\n",
    "# Hidden\n",
    "fcn_network.add(layers.Dense(100,activation='tanh'))\n",
    "fcn_network.add(layers.Dense(400,activation='tanh'))\n",
    "fcn_network.add(layers.Dense(100,activation='tanh'))\n",
    "#\n",
    "# Output\n",
    "fcn_network.add(layers.Dense(3,activation='softmax'))\n",
    "#\n",
    "# Compile\n",
    "fcn_network.compile(optimizer='adam',loss='categorical_crossentropy',metrics=['accuracy'])\n",
    "# \n",
    "# Fit/save/print summary\n",
    "callbacks = [keras.callbacks.EarlyStopping(monitor='val_loss', patience=10)]\n",
    "fcn_results = fcn_network.fit(train_data,train_labels_cat,\n",
    "                              epochs=100,\n",
    "                              batch_size=128,\n",
    "                              callbacks=callbacks, # Early stopping\n",
    "                              validation_data=(test_data,test_labels_cat))\n",
    "fcn_network.save('Large_model_fcn.h5')"
   ]
  },
  {
   "cell_type": "code",
   "execution_count": 10,
   "id": "e203511c",
   "metadata": {},
   "outputs": [
    {
     "name": "stdout",
     "output_type": "stream",
     "text": [
      "(1, 7)\n"
     ]
    }
   ],
   "source": [
    "from keras.models import load_model\n",
    "test_list = [[1,2,0,2,0,1,1]]\n",
    "test_list = np.array(test_list)\n",
    "\n",
    "network_name = 'Large_model_fcn.h5'\n",
    "fcn_network = load_model(network_name)\n",
    "\n",
    "print(test_list.shape)"
   ]
  },
  {
   "cell_type": "code",
   "execution_count": 11,
   "id": "75405c30",
   "metadata": {},
   "outputs": [],
   "source": [
    "predictions = fcn_network.predict(test_list)"
   ]
  },
  {
   "cell_type": "code",
   "execution_count": 12,
   "id": "53da72d3",
   "metadata": {},
   "outputs": [
    {
     "name": "stdout",
     "output_type": "stream",
     "text": [
      "[[0.48666367 0.27419823 0.23913807]]\n"
     ]
    }
   ],
   "source": [
    "print(predictions)"
   ]
  },
  {
   "cell_type": "code",
   "execution_count": 13,
   "id": "b9028b95",
   "metadata": {},
   "outputs": [
    {
     "name": "stdout",
     "output_type": "stream",
     "text": [
      "0\n"
     ]
    }
   ],
   "source": [
    "print(np.argmax(predictions))"
   ]
  },
  {
   "cell_type": "code",
   "execution_count": null,
   "id": "832137bd",
   "metadata": {},
   "outputs": [],
   "source": []
  }
 ],
 "metadata": {
  "kernelspec": {
   "display_name": "Python 3",
   "language": "python",
   "name": "python3"
  },
  "language_info": {
   "codemirror_mode": {
    "name": "ipython",
    "version": 3
   },
   "file_extension": ".py",
   "mimetype": "text/x-python",
   "name": "python",
   "nbconvert_exporter": "python",
   "pygments_lexer": "ipython3",
   "version": "3.6.8"
  }
 },
 "nbformat": 4,
 "nbformat_minor": 5
}
